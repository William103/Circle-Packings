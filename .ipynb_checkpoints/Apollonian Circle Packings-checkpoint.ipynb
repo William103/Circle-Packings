{
 "cells": [
  {
   "cell_type": "markdown",
   "metadata": {},
   "source": [
    "# Calculations to find the quadratic form of the octahedron packing"
   ]
  },
  {
   "cell_type": "markdown",
   "metadata": {},
   "source": [
    "$P$ is the matrix of the quadratic form corresponding to $h_1^2 + h_2^2 - \\tilde{b}b = 1$."
   ]
  },
  {
   "cell_type": "code",
   "execution_count": 49,
   "metadata": {},
   "outputs": [],
   "source": [
    "P = matrix([\n",
    "    [0, -1/2, 0, 0],\n",
    "    [-1/2, 0, 0, 0],\n",
    "    [0, 0, 1, 0],\n",
    "    [0, 0, 0, 1],\n",
    "])"
   ]
  },
  {
   "cell_type": "code",
   "execution_count": 50,
   "metadata": {},
   "outputs": [
    {
     "data": {
      "text/plain": [
       "[ 0 -2  0  0]\n",
       "[-2  0  0  0]\n",
       "[ 0  0  1  0]\n",
       "[ 0  0  0  1]"
      ]
     },
     "execution_count": 50,
     "metadata": {},
     "output_type": "execute_result"
    }
   ],
   "source": [
    "P.inverse()"
   ]
  },
  {
   "cell_type": "markdown",
   "metadata": {},
   "source": [
    "For an Apollonian packing, you can make a matrix, $W$, where the rows are the coordinates of each of the circles in a quadruple. In an octahedral packing, this is impossible, as there are six circles in a unit. You can try creating a $6\\times 4$ matrix, but, later, we end up needing to invert $WPW^T$, the product of a $6\\times 4$, $4\\times 4$, and $4\\times 6$ matrix, which is singular. Fortunately, the sextuples come in three pairs of circles. Each pair consists of circles that aren't tangent to each other. For whatever reason (we aren't sure yet why, but the Guettler and Mallows says this is the case), the average of the coordinates of the circles in a pair is the same across the sextuple. So, we can make a matrix where the first three rows are the coordinates of circles from different pairs, i.e. three mutually tangent circles, and the fourth is the average of the coordinates in a pair. From this, you can recover the coordinates for all the circles in a sextuple.\n",
    "\n",
    "Here $W$ is such a matrix computed for the $(0, 0, 1, 1, 2, 2)$ root sextuple."
   ]
  },
  {
   "cell_type": "code",
   "execution_count": 51,
   "metadata": {},
   "outputs": [],
   "source": [
    "W = matrix([\n",
    "    [2, 0, 0, 1],\n",
    "    [2, 0, 0, -1],\n",
    "    [-1, 1, 0, 0],\n",
    "    [3, 1, sqrt(2), 0]\n",
    "])"
   ]
  },
  {
   "cell_type": "markdown",
   "metadata": {},
   "source": [
    "Here we have $$\n",
    "    WPW^T = \\left(\\begin{matrix}\n",
    "        1 & -1 & -1 & -1\\\\\n",
    "        -1 & 1 & -1 & -1\\\\\n",
    "        -1 & -1 & 1 & -1\\\\\n",
    "        -1 & -1 & -1 & -1\n",
    "    \\end{matrix}\\right) = M\n",
    "$$\n",
    "So, inverting both sides, we get $$\n",
    "    (WPW^T)^{-1} = M^{-1}\n",
    "$$ $$\n",
    "    (W^T)^{-1}P^{-1}W^{-1} = M^{-1}\n",
    "$$ $$\n",
    "    P^{-1} = W^TM^{-1}W\n",
    ".$$\n",
    "\n",
    "Like in the case with Apollonian packings, this is true for any sextuple $W$. So, we can substitute an arbitrary sextuple for $W$ and it must be equal to $P^{-1}$, letting us derive some useful quadratic forms."
   ]
  },
  {
   "cell_type": "code",
   "execution_count": 52,
   "metadata": {
    "scrolled": true
   },
   "outputs": [
    {
     "data": {
      "text/plain": [
       "[ 1 -1 -1 -1]\n",
       "[-1  1 -1 -1]\n",
       "[-1 -1  1 -1]\n",
       "[-1 -1 -1 -1]"
      ]
     },
     "execution_count": 52,
     "metadata": {},
     "output_type": "execute_result"
    }
   ],
   "source": [
    "M = W * P * W.transpose()\n",
    "M"
   ]
  },
  {
   "cell_type": "code",
   "execution_count": 53,
   "metadata": {
    "scrolled": true
   },
   "outputs": [
    {
     "data": {
      "text/plain": [
       "[ 1/2    0    0 -1/2]\n",
       "[   0  1/2    0 -1/2]\n",
       "[   0    0  1/2 -1/2]\n",
       "[-1/2 -1/2 -1/2  1/2]"
      ]
     },
     "execution_count": 53,
     "metadata": {},
     "output_type": "execute_result"
    }
   ],
   "source": [
    "M.inverse()"
   ]
  },
  {
   "cell_type": "code",
   "execution_count": 54,
   "metadata": {},
   "outputs": [],
   "source": [
    "bt1 = var('bt1')\n",
    "b1  = var('b1')\n",
    "h11 = var('h11')\n",
    "h12 = var('h12')\n",
    "bt2 = var('bt2')\n",
    "b2  = var('b2')\n",
    "h21 = var('h21')\n",
    "h22 = var('h22')\n",
    "bt3 = var('bt3')\n",
    "b3  = var('b3')\n",
    "h31 = var('h31')\n",
    "h32 = var('h32')\n",
    "b5_avg = var('b5_avg')\n",
    "b_avg  = var('b_avg')\n",
    "h1_avg = var('h1_avg')\n",
    "h2_avg = var('h2_avg')\n",
    "\n",
    "\n",
    "W2 = matrix([\n",
    "    [bt1, b1, h11, h12],\n",
    "    [bt2, b2, h21, h22],\n",
    "    [bt3, b3, h31, h32],\n",
    "    [b5_avg, b_avg, h1_avg, h2_avg],\n",
    "])"
   ]
  },
  {
   "cell_type": "code",
   "execution_count": 55,
   "metadata": {},
   "outputs": [],
   "source": [
    "D = W2.transpose() * M.inverse() * W2"
   ]
  },
  {
   "cell_type": "code",
   "execution_count": 56,
   "metadata": {},
   "outputs": [
    {
     "data": {
      "text/plain": [
       "[ 0 -2  0  0]\n",
       "[-2  0  0  0]\n",
       "[ 0  0  1  0]\n",
       "[ 0  0  0  1]"
      ]
     },
     "execution_count": 56,
     "metadata": {},
     "output_type": "execute_result"
    }
   ],
   "source": [
    "P.inverse()"
   ]
  },
  {
   "cell_type": "code",
   "execution_count": 57,
   "metadata": {},
   "outputs": [
    {
     "data": {
      "text/plain": [
       "[b_avg == b1 + b2 + b3 - sqrt(2*b1*b2 + 2*(b1 + b2)*b3), b_avg == b1 + b2 + b3 + sqrt(2*b1*b2 + 2*(b1 + b2)*b3)]"
      ]
     },
     "execution_count": 57,
     "metadata": {},
     "output_type": "execute_result"
    }
   ],
   "source": [
    "quad = 2 * factor(simplify(D[1][1]))\n",
    "solve(quad == 0, b_avg)"
   ]
  },
  {
   "cell_type": "code",
   "execution_count": 58,
   "metadata": {},
   "outputs": [
    {
     "data": {
      "text/plain": [
       "b1^2 + b2^2 + b3^2 - 2*b1*b_avg - 2*b2*b_avg - 2*b3*b_avg + b_avg^2"
      ]
     },
     "execution_count": 58,
     "metadata": {},
     "output_type": "execute_result"
    }
   ],
   "source": [
    "quad"
   ]
  },
  {
   "cell_type": "markdown",
   "metadata": {},
   "source": [
    "So, we end up deriving the quadratic form $$\n",
    "    b_1^2 + b_2^2 + b_3^2 + b_{\\text{avg}}^2 - 2b_{\\text{avg}}(b_1 + b_2 + b_3) = 0\n",
    ".$$\n",
    "\n",
    "This means that, given three mutually tangent circles with curvatures $b_1,b_2,b_3$, there are two solutions for $b_{\\text{avg}}$, allowing us to derive two new sets of three mutually tangent circles with curvatures $b_1' = 2b_{\\text{avg}} - b_1$ etc."
   ]
  },
  {
   "cell_type": "code",
   "execution_count": 59,
   "metadata": {},
   "outputs": [
    {
     "data": {
      "text/plain": [
       "1/2*b1*h11 - 1/2*b_avg*h11 - 1/2*b1*h1_avg - 1/2*b2*h1_avg - 1/2*b3*h1_avg + 1/2*b_avg*h1_avg + 1/2*b2*h21 - 1/2*b_avg*h21 + 1/2*b3*h31 - 1/2*b_avg*h31"
      ]
     },
     "execution_count": 59,
     "metadata": {},
     "output_type": "execute_result"
    }
   ],
   "source": [
    "factor(simplify(D[2][1]))"
   ]
  },
  {
   "cell_type": "markdown",
   "metadata": {},
   "source": [
    "# Calculations to find the generators for the \"Apollonian\" Group for the octahedral packing\n",
    "\n",
    "We can try the reflection group, since that is one way to derive the generators for the Apollonian group and see if it works. My worry is that it won't since the coordinate system is so different."
   ]
  },
  {
   "cell_type": "code",
   "execution_count": 60,
   "metadata": {},
   "outputs": [],
   "source": [
    "S1 = matrix([\n",
    "    [-1, 2, 2, 2],\n",
    "    [0, 1, 0, 0],\n",
    "    [0, 0, 1, 0],\n",
    "    [0, 0, 0, 1],\n",
    "])\n",
    "\n",
    "S2 = matrix([\n",
    "    [1, 0, 0, 0],\n",
    "    [2, -1, 2, 2],\n",
    "    [0, 0, 1, 0],\n",
    "    [0, 0, 0, 1]\n",
    "])\n",
    "\n",
    "S3 = matrix([\n",
    "    [1, 0, 0, 0],\n",
    "    [0, 1, 0, 0],\n",
    "    [2, 2, -1, 2],\n",
    "    [0, 0, 0, 1]\n",
    "])\n",
    "\n",
    "# this is the only one that differs from the generators of the Apollonian group\n",
    "S4 = matrix([\n",
    "    [1, 0, 0, 0],\n",
    "    [0, 1, 0, 0],\n",
    "    [0, 0, 1, 0],\n",
    "    [2, 2, 2, 3]\n",
    "])"
   ]
  },
  {
   "cell_type": "code",
   "execution_count": 76,
   "metadata": {},
   "outputs": [],
   "source": [
    "W = matrix([\n",
    "    [2, 0, 0, 1],\n",
    "    [2, 0, 0, -1],\n",
    "    [-1, 1, 0, 0],\n",
    "    [3, 1, sqrt(2), 0]\n",
    "])"
   ]
  },
  {
   "cell_type": "code",
   "execution_count": 85,
   "metadata": {},
   "outputs": [],
   "source": [
    "def draw_circles_from_coords(coords, color=(0,0,1)):\n",
    "    drawing = None\n",
    "    averages = coords[-1]\n",
    "    avgb = averages[1]\n",
    "    for row in coords[:-1]:\n",
    "        b = row[1]\n",
    "        if not b == 0:\n",
    "            x = row[2] / b\n",
    "            y = row[3] / b\n",
    "            if drawing is not None:\n",
    "                drawing += circle((x, y), 1 / b, rgbcolor=color)\n",
    "            else:\n",
    "                drawing = circle((x, y), 1 / b, rgbcolor=color)\n",
    "        newb = 2 * avgb - b\n",
    "        if not newb == 0:\n",
    "            newx = (2 * averages[2] - row[2]) / newb\n",
    "            newy = (2 * averages[3] - row[3]) / newb\n",
    "            if drawing is not None:\n",
    "                drawing += circle((newx, newy), 1 / newb, rgbcolor=color)\n",
    "            else:\n",
    "                drawing = circle((newx, newy), 1 / newb, rgbcolor=color)\n",
    "    return drawing"
   ]
  },
  {
   "cell_type": "code",
   "execution_count": 95,
   "metadata": {},
   "outputs": [],
   "source": [
    "def draw_circles_from_coords(coords, color=(0,0,1)):\n",
    "    drawing = None\n",
    "    for row in coords:\n",
    "        b = row[1]\n",
    "        if not b == 0:\n",
    "            x = row[2] / b\n",
    "            y = row[3] / b\n",
    "            if drawing is not None:\n",
    "                drawing += circle((x, y), 1 / b, rgbcolor=color)\n",
    "            else:\n",
    "                drawing = circle((x, y), 1 / b, rgbcolor=color)\n",
    "    return drawing"
   ]
  },
  {
   "cell_type": "code",
   "execution_count": null,
   "metadata": {},
   "outputs": [],
   "source": [
    "root = matrix([\n",
    "    [2, 0, 0, 1],\n",
    "    [2, 0, 0, -1],\n",
    "    [-1, 1, 0, 0],\n",
    "    [3, 1, 2, 0]\n",
    "])\n",
    "\n",
    "S4 = matrix([\n",
    "    [1, 0, 0, 0],\n",
    "    [0, 1, 0, 0],\n",
    "    [0, 0, 1, 0],\n",
    "    [2, 2, 2, -1],\n",
    "])\n",
    "\n",
    "drawing = draw_circles_from_coords(root)\n",
    "branches = [root]\n",
    "for i in range(10):\n",
    "    new_branches = []\n",
    "    for tree in branches:\n",
    "        drawing += draw_circles_from_coords(tree)\n",
    "        new_branches.append(S1 * tree)\n",
    "        new_branches.append(S2 * tree)\n",
    "        new_branches.append(S3 * tree)\n",
    "        new_branches.append(S4 * tree)\n",
    "    branches = new_branches\n",
    "drawing"
   ]
  },
  {
   "cell_type": "markdown",
   "metadata": {},
   "source": [
    "Hmm. Doesn't look like it worked. And my crude code to draw the circles doesn't seem to be the problem either."
   ]
  },
  {
   "cell_type": "code",
   "execution_count": 93,
   "metadata": {},
   "outputs": [
    {
     "data": {
      "image/png": "[encoded data removed]",
      "text/plain": [
       "Graphics object consisting of 8 graphics primitives"
      ]
     },
     "execution_count": 93,
     "metadata": {},
     "output_type": "execute_result"
    }
   ],
   "source": [
    "draw_circles_from_coords(W) + draw_circles_from_coords(S4 * W)"
   ]
  },
  {
   "cell_type": "markdown",
   "metadata": {},
   "source": [
    "# Calculations to find the curvatures of the dual circles of the octahedral packing\n",
    "\n",
    "Here the basic idea was to work out the intersection points of the circles and let the computer algebraically find the radii of the circles. The end up coming out, rather anticlimactically, to $(0, 0, \\sqrt 2, \\sqrt 2, \\sqrt 2, \\sqrt 2, 2\\sqrt 2, 2\\sqrt 2)$. It's rather satisfying and a bit surprising that the dual of the root sextuple of the octahedral packing is the root of the cubic packing, since the dual polyhedron of the octahedron is the cube."
   ]
  },
  {
   "cell_type": "code",
   "execution_count": 63,
   "metadata": {},
   "outputs": [],
   "source": [
    "def circle_from_points(pta, ptb, ptc):\n",
    "    a = var('a')\n",
    "    b = var('b')\n",
    "    r = var('r')\n",
    "    x = var('x')\n",
    "    y = var('y')\n",
    "    \n",
    "    circle_func = (x - a)^2 + (y - b)^2 == r^2\n",
    "    \n",
    "    eq1 = circle_func.subs(x == pta[0]).subs(y == pta[1])\n",
    "    eq2 = circle_func.subs(x == ptb[0]).subs(y == ptb[1])\n",
    "    eq3 = circle_func.subs(x == ptc[0]).subs(y == ptc[1])\n",
    "    \n",
    "    res = solve([eq1, eq2, eq3], a, b, r)[1]\n",
    "    \n",
    "    return (res[0].rhs(), res[1].rhs(), res[2].rhs())"
   ]
  },
  {
   "cell_type": "code",
   "execution_count": 64,
   "metadata": {},
   "outputs": [
    {
     "name": "stdout",
     "output_type": "stream",
     "text": [
      "(1/2*sqrt(2), 1)\n",
      "sqrt(2)\n",
      "(1/4*sqrt(2), 0)\n",
      "2*sqrt(2)\n"
     ]
    },
    {
     "data": {
      "image/png": "[encoded data removed]",
      "text/plain": [
       "Graphics object consisting of 14 graphics primitives"
      ]
     },
     "metadata": {},
     "output_type": "display_data"
    }
   ],
   "source": [
    "c1 = line([(-3, 1), (3, 1)])\n",
    "c2 = line([(-3, -1), (3, -1)])\n",
    "c3 = circle((-sqrt(2), 0), 1)\n",
    "c4 = circle((sqrt(2), 0), 1)\n",
    "c5 = circle((0, 1/2), 1/2)\n",
    "c6 = circle((0, -1/2), 1/2)\n",
    "\n",
    "b1 = line([(-sqrt(2), -3), (-sqrt(2), 3)], rgbcolor=(1, 0, 0))\n",
    "b2 = line([(sqrt(2), -3), (sqrt(2), 3)], rgbcolor=(1, 0, 0))\n",
    "\n",
    "x, y, r = circle_from_points((sqrt(2) / 3, 1 / 3), (0, 1), (sqrt(2), 1))\n",
    "print('({}, {})'.format(x, y))\n",
    "print(1 / r)\n",
    "\n",
    "b3 = circle(( x,  y), r, rgbcolor=(1, 0, 0))\n",
    "b4 = circle((-x,  y), r, rgbcolor=(1, 0, 0))\n",
    "b5 = circle(( x, -y), r, rgbcolor=(1, 0, 0))\n",
    "b6 = circle((-x, -y), r, rgbcolor=(1, 0, 0))\n",
    "\n",
    "x, y, r = circle_from_points((sqrt(2) / 3, 1 / 3), (0, 0), (sqrt(2) / 3, -1 / 3))\n",
    "print('({}, {})'.format(x, y))\n",
    "print(1 / r)\n",
    "\n",
    "b7 = circle(( x, y), r, rgbcolor=(1, 0, 0))\n",
    "b8 = circle((-x, y), r, rgbcolor=(1, 0, 0))\n",
    "\n",
    "show(c1 + c2 + c3 + c4 + c5 + c6 + b1 + b2 + b3 + b4 + b5 + b6 + b7 + b8)"
   ]
  },
  {
   "cell_type": "markdown",
   "metadata": {},
   "source": [
    "# Futile attempt to derive the quadratic form for the cubic packing\n",
    "\n",
    "We attempted to derive the quadratic form for the cubic packing based on the data collected above, but the results don't match the results from the Stange at all and are significantly uglier. There's probably a mistake in here somewhere, but I'm not sure where."
   ]
  },
  {
   "cell_type": "code",
   "execution_count": 65,
   "metadata": {},
   "outputs": [],
   "source": [
    "def abbc_coords(b, h1, h2):\n",
    "    return [(h1^2 + h2^2 - 1) / b, b, h1, h2]"
   ]
  },
  {
   "cell_type": "code",
   "execution_count": 66,
   "metadata": {},
   "outputs": [
    {
     "data": {
      "text/plain": [
       "[   1   -3   -3 -5/4   -1   -1   -5  3/4]\n",
       "[  -3    1   -3  1/2   -1   -1   -1 -3/2]\n",
       "[  -3   -3    1 -5/4   -5   -1   -1  3/4]\n",
       "[-5/4  1/2 -5/4    1  3/4 -3/2  3/4   -1]\n",
       "[  -1   -1   -5  3/4    1   -3   -3 -5/4]\n",
       "[  -1   -1   -1 -3/2   -3    1   -3  1/2]\n",
       "[  -5   -1   -1  3/4   -3   -3    1 -5/4]\n",
       "[ 3/4 -3/2  3/4   -1 -5/4  1/2 -5/4    1]"
      ]
     },
     "execution_count": 66,
     "metadata": {},
     "output_type": "execute_result"
    }
   ],
   "source": [
    "Wc = matrix([\n",
    "    abbc_coords(sqrt(2), -1, sqrt(2)),\n",
    "    abbc_coords(2*sqrt(2), 1, 0),\n",
    "    abbc_coords(sqrt(2), -1, -sqrt(2)),\n",
    "    [sqrt(2) / 4, 0, 1, 0],\n",
    "    abbc_coords(sqrt(2), 1, sqrt(2)),\n",
    "    abbc_coords(2*sqrt(2), -1, 0),\n",
    "    abbc_coords(sqrt(2), 1, -sqrt(2)),\n",
    "    [sqrt(2) / 4, 0, -1, 0]\n",
    "\n",
    "])\n",
    "\n",
    "Wc * P * Wc.transpose()"
   ]
  },
  {
   "cell_type": "code",
   "execution_count": 67,
   "metadata": {},
   "outputs": [],
   "source": [
    "W = matrix([\n",
    "    abbc_coords(sqrt(2), -1, sqrt(2)),\n",
    "    abbc_coords(2*sqrt(2), 1, 0),\n",
    "    abbc_coords(sqrt(2), -1, -sqrt(2)),\n",
    "    [sqrt(2) / 4, 0, 1, 0]\n",
    "])"
   ]
  },
  {
   "cell_type": "code",
   "execution_count": 68,
   "metadata": {
    "scrolled": true
   },
   "outputs": [
    {
     "data": {
      "text/plain": [
       "[   1   -3   -3 -5/4]\n",
       "[  -3    1   -3  1/2]\n",
       "[  -3   -3    1 -5/4]\n",
       "[-5/4  1/2 -5/4    1]"
      ]
     },
     "execution_count": 68,
     "metadata": {},
     "output_type": "execute_result"
    }
   ],
   "source": [
    "m = W * P * W.transpose()\n",
    "m"
   ]
  },
  {
   "cell_type": "code",
   "execution_count": 69,
   "metadata": {},
   "outputs": [
    {
     "data": {
      "text/plain": [
       "97*b1^2 - 304*b1*b2 + 328*b2^2 - 290*b1*b3 - 304*b2*b3 + 97*b3^2 + 32*b1*b_avg - 1088*b2*b_avg + 32*b3*b_avg + 1280*b_avg^2"
      ]
     },
     "execution_count": 69,
     "metadata": {},
     "output_type": "execute_result"
    }
   ],
   "source": [
    "D = W2.transpose() * m.inverse() * W2\n",
    "968*factor(simplify(D[1][1]))"
   ]
  }
 ],
 "metadata": {
  "kernelspec": {
   "display_name": "SageMath 9.2",
   "language": "sage",
   "name": "sagemath"
  },
  "language_info": {
   "codemirror_mode": {
    "name": "ipython",
    "version": 3
   },
   "file_extension": ".py",
   "mimetype": "text/x-python",
   "name": "python",
   "nbconvert_exporter": "python",
   "pygments_lexer": "ipython3",
   "version": "3.9.2"
  }
 },
 "nbformat": 4,
 "nbformat_minor": 4
}
