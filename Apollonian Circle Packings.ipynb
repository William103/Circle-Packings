{
 "cells": [
  {
   "cell_type": "code",
   "execution_count": 3,
   "metadata": {},
   "outputs": [],
   "source": [
    "P = matrix([\n",
    "    [0, -1/2, 0, 0],\n",
    "    [-1/2, 0, 0, 0],\n",
    "    [0, 0, 1, 0],\n",
    "    [0, 0, 0, 1],\n",
    "])"
   ]
  },
  {
   "cell_type": "code",
   "execution_count": 4,
   "metadata": {},
   "outputs": [
    {
     "data": {
      "text/plain": [
       "[ 0 -2  0  0]\n",
       "[-2  0  0  0]\n",
       "[ 0  0  1  0]\n",
       "[ 0  0  0  1]"
      ]
     },
     "execution_count": 4,
     "metadata": {},
     "output_type": "execute_result"
    }
   ],
   "source": [
    "P.inverse()"
   ]
  },
  {
   "cell_type": "code",
   "execution_count": 5,
   "metadata": {},
   "outputs": [],
   "source": [
    "W = matrix([\n",
    "    [2, 0, 0, 1],\n",
    "    [2, 0, 0, -1],\n",
    "    [-1, 1, 0, 0],\n",
    "    [3, 1, sqrt(2), 0]\n",
    "])"
   ]
  },
  {
   "cell_type": "code",
   "execution_count": 6,
   "metadata": {
    "scrolled": true
   },
   "outputs": [
    {
     "data": {
      "text/plain": [
       "[ 1 -1 -1 -1]\n",
       "[-1  1 -1 -1]\n",
       "[-1 -1  1 -1]\n",
       "[-1 -1 -1 -1]"
      ]
     },
     "execution_count": 6,
     "metadata": {},
     "output_type": "execute_result"
    }
   ],
   "source": [
    "m = W * P * W.transpose()\n",
    "m"
   ]
  },
  {
   "cell_type": "code",
   "execution_count": 7,
   "metadata": {
    "scrolled": true
   },
   "outputs": [
    {
     "data": {
      "text/plain": [
       "-8"
      ]
     },
     "execution_count": 7,
     "metadata": {},
     "output_type": "execute_result"
    }
   ],
   "source": [
    "m.determinant()"
   ]
  },
  {
   "cell_type": "code",
   "execution_count": 8,
   "metadata": {
    "scrolled": true
   },
   "outputs": [
    {
     "data": {
      "text/plain": [
       "[ 1/2    0    0 -1/2]\n",
       "[   0  1/2    0 -1/2]\n",
       "[   0    0  1/2 -1/2]\n",
       "[-1/2 -1/2 -1/2  1/2]"
      ]
     },
     "execution_count": 8,
     "metadata": {},
     "output_type": "execute_result"
    }
   ],
   "source": [
    "m.inverse()"
   ]
  },
  {
   "cell_type": "code",
   "execution_count": 9,
   "metadata": {},
   "outputs": [],
   "source": [
    "bt1 = var('bt1')\n",
    "b1  = var('b1')\n",
    "h11 = var('h11')\n",
    "h12 = var('h12')\n",
    "bt2 = var('bt2')\n",
    "b2  = var('b2')\n",
    "h21 = var('h21')\n",
    "h22 = var('h22')\n",
    "bt3 = var('bt3')\n",
    "b3  = var('b3')\n",
    "h31 = var('h31')\n",
    "h32 = var('h32')\n",
    "bt4 = var('bt4')\n",
    "b4  = var('b4')\n",
    "h41 = var('h41')\n",
    "h42 = var('h42')\n",
    "\n",
    "\n",
    "W2 = matrix([\n",
    "    [bt1, b1, h11, h12],\n",
    "    [bt2, b2, h21, h22],\n",
    "    [bt3, b3, h31, h32],\n",
    "    [bt4, b4, h41, h42],\n",
    "])"
   ]
  },
  {
   "cell_type": "code",
   "execution_count": 10,
   "metadata": {},
   "outputs": [],
   "source": [
    "D = W2.transpose() * m.inverse() * W2"
   ]
  },
  {
   "cell_type": "code",
   "execution_count": 11,
   "metadata": {},
   "outputs": [
    {
     "data": {
      "text/plain": [
       "[ 0 -2  0  0]\n",
       "[-2  0  0  0]\n",
       "[ 0  0  1  0]\n",
       "[ 0  0  0  1]"
      ]
     },
     "execution_count": 11,
     "metadata": {},
     "output_type": "execute_result"
    }
   ],
   "source": [
    "P.inverse()"
   ]
  },
  {
   "cell_type": "code",
   "execution_count": 12,
   "metadata": {},
   "outputs": [
    {
     "data": {
      "text/plain": [
       "[b4 == b1 + b2 + b3 - sqrt(2*b1*b2 + 2*(b1 + b2)*b3), b4 == b1 + b2 + b3 + sqrt(2*b1*b2 + 2*(b1 + b2)*b3)]"
      ]
     },
     "execution_count": 12,
     "metadata": {},
     "output_type": "execute_result"
    }
   ],
   "source": [
    "quad = 2 * factor(simplify(D[1][1]))\n",
    "solve(quad == 0, b4)"
   ]
  },
  {
   "cell_type": "code",
   "execution_count": 13,
   "metadata": {},
   "outputs": [
    {
     "data": {
      "text/plain": [
       "b1^2 + b2^2 + b3^2 - 2*b1*b4 - 2*b2*b4 - 2*b3*b4 + b4^2"
      ]
     },
     "execution_count": 13,
     "metadata": {},
     "output_type": "execute_result"
    }
   ],
   "source": [
    "quad"
   ]
  },
  {
   "cell_type": "code",
   "execution_count": 14,
   "metadata": {},
   "outputs": [
    {
     "data": {
      "text/plain": [
       "1/2*b1*h11 - 1/2*b4*h11 + 1/2*b2*h21 - 1/2*b4*h21 + 1/2*b3*h31 - 1/2*b4*h31 - 1/2*b1*h41 - 1/2*b2*h41 - 1/2*b3*h41 + 1/2*b4*h41"
      ]
     },
     "execution_count": 14,
     "metadata": {},
     "output_type": "execute_result"
    }
   ],
   "source": [
    "factor(simplify(D[2][1]))"
   ]
  },
  {
   "cell_type": "code",
   "execution_count": 20,
   "metadata": {},
   "outputs": [],
   "source": [
    "def circle_from_points(pta, ptb, ptc):\n",
    "    a = var('a')\n",
    "    b = var('b')\n",
    "    r = var('r')\n",
    "    x = var('x')\n",
    "    y = var('y')\n",
    "    \n",
    "    circle_func = (x - a)^2 + (y - b)^2 == r^2\n",
    "    \n",
    "    eq1 = circle_func.subs(x == pta[0]).subs(y == pta[1])\n",
    "    eq2 = circle_func.subs(x == ptb[0]).subs(y == ptb[1])\n",
    "    eq3 = circle_func.subs(x == ptc[0]).subs(y == ptc[1])\n",
    "    \n",
    "    res = solve([eq1, eq2, eq3], a, b, r)[1]\n",
    "    \n",
    "    return (res[0].rhs(), res[1].rhs(), res[2].rhs())"
   ]
  },
  {
   "cell_type": "code",
   "execution_count": 21,
   "metadata": {},
   "outputs": [
    {
     "data": {
      "text/plain": [
       "(1/2, 1/2, 1/2*sqrt(2))"
      ]
     },
     "execution_count": 21,
     "metadata": {},
     "output_type": "execute_result"
    }
   ],
   "source": [
    "circle_from_points((0, 1), (1, 0), (1, 1))"
   ]
  },
  {
   "cell_type": "code",
   "execution_count": 23,
   "metadata": {},
   "outputs": [
    {
     "name": "stdout",
     "output_type": "stream",
     "text": [
      "sqrt(2)\n",
      "2*sqrt(2)\n"
     ]
    },
    {
     "data": {
      "image/png": "[encoded data removed]",
      "text/plain": [
       "Graphics object consisting of 14 graphics primitives"
      ]
     },
     "metadata": {},
     "output_type": "display_data"
    }
   ],
   "source": [
    "c1 = line([(-3, 1), (3, 1)])\n",
    "c2 = line([(-3, -1), (3, -1)])\n",
    "c3 = circle((-sqrt(2), 0), 1)\n",
    "c4 = circle((sqrt(2), 0), 1)\n",
    "c5 = circle((0, 1/2), 1/2)\n",
    "c6 = circle((0, -1/2), 1/2)\n",
    "\n",
    "b1 = line([(-sqrt(2), -3), (-sqrt(2), 3)], rgbcolor=(1, 0, 0))\n",
    "b2 = line([(sqrt(2), -3), (sqrt(2), 3)], rgbcolor=(1, 0, 0))\n",
    "\n",
    "x, y, r = circle_from_points((sqrt(2) / 3, 1 / 3), (0, 1), (sqrt(2), 1))\n",
    "print(1 / r)\n",
    "\n",
    "b3 = circle(( x,  y), r, rgbcolor=(1, 0, 0))\n",
    "b4 = circle((-x,  y), r, rgbcolor=(1, 0, 0))\n",
    "b5 = circle(( x, -y), r, rgbcolor=(1, 0, 0))\n",
    "b6 = circle((-x, -y), r, rgbcolor=(1, 0, 0))\n",
    "\n",
    "x, y, r = circle_from_points((sqrt(2) / 3, 1 / 3), (0, 0), (sqrt(2) / 3, -1 / 3))\n",
    "print(1 / r)\n",
    "\n",
    "b7 = circle(( x, y), r, rgbcolor=(1, 0, 0))\n",
    "b8 = circle((-x, y), r, rgbcolor=(1, 0, 0))\n",
    "\n",
    "show(c1 + c2 + c3 + c4 + c5 + c6 + b1 + b2 + b3 + b4 + b5 + b6 + b7 + b8)"
   ]
  }
 ],
 "metadata": {
  "kernelspec": {
   "display_name": "SageMath 9.2",
   "language": "sage",
   "name": "sagemath"
  },
  "language_info": {
   "codemirror_mode": {
    "name": "ipython",
    "version": 3
   },
   "file_extension": ".py",
   "mimetype": "text/x-python",
   "name": "python",
   "nbconvert_exporter": "python",
   "pygments_lexer": "ipython3",
   "version": "3.9.2"
  }
 },
 "nbformat": 4,
 "nbformat_minor": 4
}
